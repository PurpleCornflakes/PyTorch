{
 "cells": [
  {
   "cell_type": "code",
   "execution_count": 1,
   "metadata": {},
   "outputs": [
    {
     "name": "stdout",
     "output_type": "stream",
     "text": [
      "['data2/names/Czech.txt', 'data2/names/German.txt', 'data2/names/Arabic.txt', 'data2/names/Japanese.txt', 'data2/names/Chinese.txt', 'data2/names/Vietnamese.txt', 'data2/names/Russian.txt', 'data2/names/French.txt', 'data2/names/Irish.txt', 'data2/names/English.txt', 'data2/names/Spanish.txt', 'data2/names/Greek.txt', 'data2/names/Italian.txt', 'data2/names/Portuguese.txt', 'data2/names/Scottish.txt', 'data2/names/Dutch.txt', 'data2/names/Korean.txt', 'data2/names/Polish.txt']\n",
      "Slusarski\n"
     ]
    }
   ],
   "source": [
    "from io import open\n",
    "import glob\n",
    "import os\n",
    "\n",
    "def findFiles(path): return glob.glob(path)\n",
    "\n",
    "print(findFiles('data2/names/*.txt'))\n",
    "\n",
    "import unicodedata\n",
    "import string\n",
    "\n",
    "all_letters = string.ascii_letters + \" .,;'\"\n",
    "n_letters = len(all_letters)\n",
    "\n",
    "# Turn a Unicode string to plain ASCII, thanks to https://stackoverflow.com/a/518232/2809427\n",
    "def unicodeToAscii(s):\n",
    "    return ''.join(\n",
    "        c for c in unicodedata.normalize('NFD', s)\n",
    "        if unicodedata.category(c) != 'Mn'\n",
    "        and c in all_letters\n",
    "    )\n",
    "\n",
    "print(unicodeToAscii('Ślusàrski'))\n",
    "\n",
    "# Build the category_lines dictionary, a list of names per language\n",
    "category_lines = {}\n",
    "all_categories = []\n",
    "\n",
    "# Read a file and split into lines\n",
    "def readLines(filename):\n",
    "    lines = open(filename, encoding='utf-8').read().strip().split('\\n')\n",
    "    return [unicodeToAscii(line) for line in lines]\n",
    "\n",
    "for filename in findFiles('data2/names/*.txt'):\n",
    "    category = os.path.splitext(os.path.basename(filename))[0]\n",
    "    all_categories.append(category)\n",
    "    lines = readLines(filename)\n",
    "    category_lines[category] = lines\n",
    "\n",
    "n_categories = len(all_categories)"
   ]
  },
  {
   "cell_type": "code",
   "execution_count": 2,
   "metadata": {},
   "outputs": [],
   "source": [
    "import torch\n",
    "import torch.nn as nn\n",
    "# Find letter index from all_letters, e.g. \"a\" = 0\n",
    "def letterToIndex(letter):\n",
    "    return all_letters.find(letter)\n",
    "\n",
    "# Just for demonstration, turn a letter into a <1 x n_letters> Tensor\n",
    "def letterToTensor(letter):\n",
    "    tensor = torch.zeros(1, n_letters)\n",
    "    tensor[0][letterToIndex(letter)] = 1\n",
    "    return tensor\n",
    "\n",
    "# Turn a line into a <line_length x 1 x n_letters>,\n",
    "# or an array of one-hot letter vectors\n",
    "def lineToTensor(line):\n",
    "    tensor = torch.zeros(len(line), 1, n_letters)\n",
    "    for li, letter in enumerate(line):\n",
    "        tensor[li][0][letterToIndex(letter)] = 1\n",
    "    return tensor\n",
    "def categoryFromOutput(output):\n",
    "    top_n, top_i = output.topk(1)\n",
    "    category_i = top_i[0].item()\n",
    "    return all_categories[category_i], category_i\n",
    "\n",
    "import random\n",
    "random.seed(333)\n",
    "def randomChoice(l):\n",
    "    return l[random.randint(0, len(l) - 1)]\n",
    "\n",
    "def randomTrainingExample():\n",
    "    category = randomChoice(all_categories)\n",
    "    line = randomChoice(category_lines[category])\n",
    "    category_tensor = torch.tensor([all_categories.index(category)], dtype=torch.long)\n",
    "    line_tensor = lineToTensor(line)\n",
    "    return category, line, category_tensor, line_tensor\n"
   ]
  },
  {
   "cell_type": "code",
   "execution_count": 3,
   "metadata": {},
   "outputs": [],
   "source": [
    "'''\n",
    "torch.nn.RNNCell(input_size, hidden_size, bias=True, nonlinearity='tanh')\n",
    "Input: input, hidden\n",
    "    input = input for the cell. # shape: (batch, input_size)\n",
    "    hidden = previous hidden state for the cell. Defaults to zero. # shape: (batch, hidden_size)\n",
    "Output: h’\n",
    "    next hidden state for the cell. # shape: (batch, hidden_size)\n",
    "'''\n",
    "\n",
    "'''\n",
    "torch.nn.LSTMCell(input_size, hidden_size, bias=True)\n",
    "Input: input,(h0,c0)\n",
    "    input = input for the cell # shape: (batch, input_size)\n",
    "    h0 = previous hidden state for the cell # shape: (batch, hidden_size)\n",
    "    c0 = previous cell state for the cell # shape: (batch, hidden_size)\n",
    "Output: h1,c1\n",
    "    h1 = next hidden state for the cell # shape: (batch, hidden_size)\n",
    "    c1 = next cell state for the cell # shape: (batch, hidden_size)\n",
    "'''\n",
    "class LSTM(nn.Module):\n",
    "    def __init__(self, input_size, hidden_size, output_size):\n",
    "        super(LSTM, self).__init__()\n",
    "        self.hidden_size = hidden_size\n",
    "        self.lstm = nn.LSTMCell(input_size, hidden_size)\n",
    "        self.h2o = nn.Linear(hidden_size, output_size)\n",
    "        self.softmax = nn.LogSoftmax(dim=1)\n",
    "    \n",
    "    def forward(self, input):\n",
    "        # input [Tx, 1, n_x]\n",
    "        h = torch.zeros(1, self.hidden_size)\n",
    "        c = torch.zeros(1, self.hidden_size)\n",
    "        for i in range(input.size()[0]):\n",
    "            # h: [1,n_hidden], c: [1,n_hidden]\n",
    "            h,c = self.lstm(input[i],(h,c))\n",
    "        # [1, n_y]\n",
    "        linear = self.h2o(h)\n",
    "        # [1, n_y]\n",
    "        output = self.softmax(linear)\n",
    "        return output\n",
    "\n",
    "n_hidden = 128"
   ]
  },
  {
   "cell_type": "code",
   "execution_count": 4,
   "metadata": {},
   "outputs": [],
   "source": [
    "torch.manual_seed(222)\n",
    "lstm = LSTM(n_letters, n_hidden, n_categories)\n",
    "criterion = nn.NLLLoss()\n",
    "learning_rate = 0.005 # If you set this too high, it might explode. If too low, it might not learn\n",
    "import torch.optim as optim\n",
    "optimizer = optim.SGD(lstm.parameters(),lr=learning_rate)\n",
    "\n",
    "def train2(category_tensor, line_tensor):\n",
    "    output = lstm(line_tensor)\n",
    "    # category_tensor [1]\n",
    "    # line_tensor [Tx, 1, n_x]\n",
    "    loss = criterion(output, category_tensor)\n",
    "    optimizer.zero_grad()\n",
    "    loss.backward()\n",
    "    optimizer.step()\n",
    "    return output, loss.item()\n"
   ]
  },
  {
   "cell_type": "code",
   "execution_count": 10,
   "metadata": {},
   "outputs": [
    {
     "name": "stdout",
     "output_type": "stream",
     "text": [
      "5000 5% (0m 11s) 0.0068 Arnoni / Italian ✓\n",
      "10000 10% (0m 23s) 0.3196 Dasios / Greek ✓\n",
      "15000 15% (0m 36s) 1.3303 Wong / Scottish ✗ (Chinese)\n",
      "20000 20% (0m 48s) 2.6084 Werrett / German ✗ (English)\n",
      "25000 25% (1m 0s) 0.2805 Black / Scottish ✓\n",
      "30000 30% (1m 12s) 0.2471 Jia / Chinese ✓\n",
      "35000 35% (1m 24s) 1.2862 Sheinfeld / English ✗ (German)\n",
      "40000 40% (1m 36s) 1.6811 Capello / Spanish ✗ (Italian)\n",
      "45000 45% (1m 48s) 0.5046 Mclean / Scottish ✓\n",
      "50000 50% (2m 0s) 1.5877 Martin / French ✗ (Scottish)\n",
      "55000 55% (2m 13s) 0.4565 Huynh / Vietnamese ✓\n",
      "60000 60% (2m 25s) 0.7713 Youj / Korean ✓\n",
      "65000 65% (2m 37s) 0.4511 Voss / German ✓\n",
      "70000 70% (2m 49s) 0.2619 Krusen / Dutch ✓\n",
      "75000 75% (3m 1s) 1.5911 Jaso / Korean ✗ (Spanish)\n",
      "80000 80% (3m 13s) 0.0098 Almeida / Portuguese ✓\n",
      "85000 85% (3m 25s) 0.9319 Han / Vietnamese ✓\n",
      "90000 90% (3m 37s) 0.0164 Hanov / Russian ✓\n",
      "95000 95% (3m 50s) 0.2655 Chellos / Greek ✓\n",
      "100000 100% (4m 2s) 0.3591 Paget / French ✓\n"
     ]
    }
   ],
   "source": [
    "import time\n",
    "import math\n",
    "\n",
    "n_iters = 100000\n",
    "print_every = 5000\n",
    "plot_every = 1000\n",
    "\n",
    "\n",
    "\n",
    "# Keep track of losses for plotting\n",
    "current_loss = 0\n",
    "# all_losses = []\n",
    "\n",
    "def timeSince(since):\n",
    "    now = time.time()\n",
    "    s = now - since\n",
    "    m = math.floor(s / 60)\n",
    "    s -= m * 60\n",
    "    return '%dm %ds' % (m, s)\n",
    "\n",
    "start = time.time()\n",
    "\n",
    "for iter in range(1, n_iters + 1):\n",
    "    category, line, category_tensor, line_tensor = randomTrainingExample()\n",
    "    output, loss = train2(category_tensor, line_tensor)\n",
    "    current_loss += loss\n",
    "\n",
    "    # Print iter number, loss, name and guess\n",
    "    if iter % print_every == 0:\n",
    "        guess, guess_i = categoryFromOutput(output)\n",
    "        correct = '✓' if guess == category else '✗ (%s)' % category\n",
    "        print('%d %d%% (%s) %.4f %s / %s %s' % (iter, iter / n_iters * 100, timeSince(start), loss, line, guess, correct))\n",
    "\n",
    "    # Add current loss avg to list of losses\n",
    "    if iter % plot_every == 0:\n",
    "        all_losses.append(current_loss / plot_every)\n",
    "        current_loss = 0"
   ]
  },
  {
   "cell_type": "code",
   "execution_count": 11,
   "metadata": {},
   "outputs": [
    {
     "data": {
      "text/plain": [
       "(0, 3)"
      ]
     },
     "execution_count": 11,
     "metadata": {},
     "output_type": "execute_result"
    },
    {
     "data": {
      "image/png": "[encoded data removed]",
      "text/plain": [
       "<Figure size 432x288 with 1 Axes>"
      ]
     },
     "metadata": {
      "needs_background": "light"
     },
     "output_type": "display_data"
    }
   ],
   "source": [
    "%matplotlib inline\n",
    "import matplotlib.pyplot as plt\n",
    "import matplotlib.ticker as ticker\n",
    "\n",
    "plt.figure()\n",
    "plt.plot(all_losses)\n",
    "plt.ylim(0,3)"
   ]
  },
  {
   "cell_type": "code",
   "execution_count": null,
   "metadata": {},
   "outputs": [],
   "source": []
  }
 ],
 "metadata": {
  "kernelspec": {
   "display_name": "Python 3",
   "language": "python",
   "name": "python3"
  },
  "language_info": {
   "codemirror_mode": {
    "name": "ipython",
    "version": 3
   },
   "file_extension": ".py",
   "mimetype": "text/x-python",
   "name": "python",
   "nbconvert_exporter": "python",
   "pygments_lexer": "ipython3",
   "version": "3.6.4"
  }
 },
 "nbformat": 4,
 "nbformat_minor": 2
}
